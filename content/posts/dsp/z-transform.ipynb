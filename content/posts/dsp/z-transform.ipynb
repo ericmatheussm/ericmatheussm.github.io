{
 "cells": [
  {
   "cell_type": "markdown",
   "metadata": {},
   "source": [
    "The objective is to generalize the fourier transform.\n",
    "\n",
    "### **Discrete Time Fourier Transform**\n",
    "$$\n",
    "x[n] =  \\sum_{n=-\\infty}^{+\\infty} x[n]e^{-j \\Omega n}\n",
    "$$\n",
    "There is a set of signals more general than the complex exponentials, wich are also eigenfunctions of LTI systems.\n",
    "$$\n",
    "z = re^{j\\Omega}\n",
    "$$\n",
    "- r: the magnitude of the complex number\n",
    "- $\\Omega$: the angle of the complex number"
   ]
  },
  {
   "cell_type": "markdown",
   "metadata": {},
   "source": [
    "### **Eigenfunctions definition**: \n",
    "An eigenfunction is a function for which the output of the operator is the same function, scaled by some constant.\n",
    "\n",
    "We can prove that z is a eigenfunction of LTI system by:\n",
    "$$\n",
    "\\sum_{k=-\\infty}^{+\\infty} x[k]z^{n-k} = \\sum_{k=-\\infty}^{+\\infty} x[k]z^n z^{-k} = z^n \\sum_{k=-\\infty}^{+\\infty} x[k]z^{-k} = z^n \\cdot H(z)\n",
    "$$\n",
    "\n",
    "So $z^n$ is an eigenfunction of an LTI system because the system response is the same as the input times the constant $H(z)$."
   ]
  },
  {
   "cell_type": "markdown",
   "metadata": {},
   "source": [
    "### **z-transform definition**:\n",
    "$$\n",
    "\\text{H}(z) = \\sum_{n=-\\infty}^{+\\infty} x[n]z^{-n}\n",
    "$$"
   ]
  },
  {
   "cell_type": "markdown",
   "metadata": {},
   "source": [
    "### **The relations between the fourier transform and the z-transform**\n",
    "\n",
    "The Z transform has a very close relation to the Fourier Transform. If we compare the fourier transform for a sequence and the z-transform for the same sequence, we can see that:\n",
    "$$\n",
    "X(z)\\bigg\\rvert_{z=e^{j\\Omega}} = \\mathscr{F}\\{x[n]\\}\n",
    "$$\n",
    "Therefore, for $r=1$ the z-transform corresponds to the fourier transform.\n",
    "\n",
    "The z-transform for other values of z (other than $ e^{j\\Omega}$) is equal to the fourier transform of the same sequence multiplied by $r^{-n}$:\n",
    "$$\n",
    "X(re^{j\\Omega}) = \\sum_{n=-\\infty}^{+\\infty} x[n](re^{j\\Omega})^{-n} = \\sum_{n=-\\infty}^{+\\infty} x[n]r^{-n}e^{-j\\Omega n}\n",
    "$$\n",
    "\n",
    "$$\n",
    "X(z) = \\mathscr{F}\\{x[n]r^{-n}\\}\n",
    "$$\n",
    "- For $r>1$: $r^{-n}$ decreases exponentially as n increases.\n",
    "- For $r<1$: $r^{-n}$ increases exponentially as n increases."
   ]
  }
 ],
 "metadata": {
  "kernelspec": {
   "display_name": "Python 3",
   "language": "python",
   "name": "python3"
  },
  "language_info": {
   "codemirror_mode": {
    "name": "ipython",
    "version": 3
   },
   "file_extension": ".py",
   "mimetype": "text/x-python",
   "name": "python",
   "nbconvert_exporter": "python",
   "pygments_lexer": "ipython3",
   "version": "3.7.3"
  }
 },
 "nbformat": 4,
 "nbformat_minor": 2
}
