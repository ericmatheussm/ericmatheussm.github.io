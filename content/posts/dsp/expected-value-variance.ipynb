{
 "cells": [
  {
   "cell_type": "markdown",
   "metadata": {},
   "source": [
    "### Expected value\n",
    "The expected value of a random variable $X$ is defined as:\n",
    "\n",
    "$$E[X]=\\sum_{i=1}^{k} p_i\\cdot x_i$$\n",
    "\n",
    "where $p_i$ is the probability of $x_i$ occurring, and k the number o possible values for the variable $X$.\n",
    " \n",
    "**Interpretations**:\n",
    "- Center of gravity of PMF\n",
    "- Average in large number of repetitions of the experiment.\n",
    "\n",
    "**Properties**:\n",
    "- $E[\\alpha] = \\alpha$\n",
    "- $E[\\alpha X] = \\alpha E[X]$\n",
    "- $E[\\alpha X + \\beta] = \\alpha E[x] + E[\\beta]$\n",
    "\n",
    "### Variance\n",
    "\n",
    "The variance of a random variable can be expressed in terms of the expected value:\n",
    "$$var(X) = E[(X-E[X])^2]$$\n",
    "$$= \\sum_x (x-E[X])^2p_X(x)$$\n",
    "$$=E[X^2]-(E[X])^2 $$\n",
    "\n",
    "**Properties**:\n",
    "- $var(X)\\geq0$\n",
    "- $var(\\alpha X +\\beta) = \\alpha^2 var(X)$: Adding a constant to a random variable does not affect its variance."
   ]
  }
 ],
 "metadata": {
  "kernelspec": {
   "display_name": "Python 3",
   "language": "python",
   "name": "python3"
  },
  "language_info": {
   "codemirror_mode": {
    "name": "ipython",
    "version": 3
   },
   "file_extension": ".py",
   "mimetype": "text/x-python",
   "name": "python",
   "nbconvert_exporter": "python",
   "pygments_lexer": "ipython3",
   "version": "3.7.6"
  }
 },
 "nbformat": 4,
 "nbformat_minor": 2
}
